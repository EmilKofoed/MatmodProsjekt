{
 "cells": [
  {
   "cell_type": "code",
   "execution_count": 3,
   "metadata": {},
   "outputs": [],
   "source": [
    "import numpy as np\n",
    "import scipy as sp"
   ]
  },
  {
   "cell_type": "code",
   "execution_count": 8,
   "metadata": {},
   "outputs": [],
   "source": [
    "P_0S = 341.3\n",
    "r_SM = 0.1065\n",
    "r_SE = 0.17\n",
    "a_O3 = 0.08\n",
    "a_SW = 0.1451\n",
    "a_LW = 0.8258\n",
    "e_E = 1\n",
    "e_A = 0.875\n",
    "f_A = 0.618\n",
    "alpha = 3\n",
    "beta = 4\n",
    "sigma = 5.67e-8"
   ]
  },
  {
   "cell_type": "code",
   "execution_count": 11,
   "metadata": {},
   "outputs": [],
   "source": [
    "def temperature(T):\n",
    "    c_1 = (1-r_SE)*(1-(a_O3+a_SW))*(1-r_SM)*P_0S\n",
    "    c_2 = (a_SW+a_O3)*(1-r_SM)*P_0S\n",
    "    return [c_1 - sigma*e_E*T[0]**4+sigma*e_A*T[1]**4+(alpha+beta)*(T[1]-T[0]),\n",
    "            c_2 + a_LW*sigma*e_E*T[0]**4 - (1+f_A)*sigma*e_A*T[1]**4 - (alpha+beta)*(T[1]-T[0])]"
   ]
  },
  {
   "cell_type": "code",
   "execution_count": 20,
   "metadata": {},
   "outputs": [
    {
     "name": "stdout",
     "output_type": "stream",
     "text": [
      "[293.41550268 281.14948072]\n"
     ]
    }
   ],
   "source": [
    "temps = sp.optimize.fsolve(temperature, [1,1])\n",
    "print(temps)"
   ]
  }
 ],
 "metadata": {
  "kernelspec": {
   "display_name": "Python 3",
   "language": "python",
   "name": "python3"
  },
  "language_info": {
   "codemirror_mode": {
    "name": "ipython",
    "version": 3
   },
   "file_extension": ".py",
   "mimetype": "text/x-python",
   "name": "python",
   "nbconvert_exporter": "python",
   "pygments_lexer": "ipython3",
   "version": "3.12.3"
  }
 },
 "nbformat": 4,
 "nbformat_minor": 2
}
