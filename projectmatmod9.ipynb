{
 "cells": [
  {
   "cell_type": "markdown",
   "metadata": {},
   "source": [
    "$$\n",
    "-D \\frac{\\partial}{\\partial x} \\left( (1 - x^2) \\frac{\\partial T}{\\partial x} \\right) = -I(x) + Q S(x) a(x, x_s)\n",
    "$$\n"
   ]
  },
  {
   "cell_type": "code",
   "execution_count": 2,
   "metadata": {},
   "outputs": [
    {
     "data": {
      "text/plain": [
       "5.999309679723736"
      ]
     },
     "execution_count": 2,
     "metadata": {},
     "output_type": "execute_result"
    }
   ],
   "source": [
    "def a_tilde(x, delta, it = 100):\n",
    "    sum = 1\n",
    "    for n in range(1, it):\n",
    "        a_2n = 1\n",
    "        for i in range(0,n):\n",
    "            a_2n *= ((2*i)*(2*i+1)+delta)/((2*i+1)*(2*i+2))\n",
    "        sum += a_2n*x**(2*n)\n",
    "    return sum\n",
    "\n",
    "a_tilde(0.86, 4.833, it = 100)"
   ]
  },
  {
   "cell_type": "code",
   "execution_count": 3,
   "metadata": {},
   "outputs": [
    {
     "data": {
      "text/plain": [
       "32.707881224215534"
      ]
     },
     "execution_count": 3,
     "metadata": {},
     "output_type": "execute_result"
    }
   ],
   "source": [
    "def a_tilde_x(x, delta, it = 100):\n",
    "    sum = 0\n",
    "    for n in range(1, it):\n",
    "        a_2n = 1\n",
    "        for i in range(0,n):\n",
    "            a_2n *= ((2*i)*(2*i+1)+delta)/((2*i+1)*(2*i+2))\n",
    "        sum += a_2n*(2*n)*x**(2*n-1)\n",
    "    return sum\n",
    "\n",
    "a_tilde_x(0.86, 4.833, it = 100)"
   ]
  },
  {
   "cell_type": "code",
   "execution_count": 108,
   "metadata": {},
   "outputs": [
    {
     "data": {
      "text/plain": [
       "1.3689389217517651"
      ]
     },
     "execution_count": 108,
     "metadata": {},
     "output_type": "execute_result"
    }
   ],
   "source": [
    "def b_tilde(x, delta, it = 100):\n",
    "    sum = 1\n",
    "    for n in range(1,it):\n",
    "        b_n = 1\n",
    "        for i in range(0,n):\n",
    "            #b_n *= (i*(i+1) + delta)/(2*(n + 1)**2)\n",
    "            b_n *= ((2*i)*(2*i+1)+delta)/(2*(2*i+1)**2)\n",
    "        sum += b_n*(1-x)**n\n",
    "    return sum\n",
    "\n",
    "b_tilde(0.86, 4.833, it = 1000)"
   ]
  },
  {
   "cell_type": "code",
   "execution_count": 109,
   "metadata": {},
   "outputs": [
    {
     "data": {
      "text/plain": [
       "2.8703145137922452"
      ]
     },
     "execution_count": 109,
     "metadata": {},
     "output_type": "execute_result"
    }
   ],
   "source": [
    "def b_tilde_x(x, delta, it = 100):\n",
    "    sum = 0\n",
    "    for n in range(1,it):\n",
    "        b_n = 1\n",
    "        for i in range(0,n):\n",
    "            #b_n *= (i*(i+1) + delta)/(2*(n + 1)**2)\n",
    "            b_n *= ((2*i)*(2*i+1)+delta)/(2*(2*i+1)**2)\n",
    "        sum += b_n*n*(1-x)**(n-1)\n",
    "    return sum\n",
    "\n",
    "b_tilde_x(0.86, 4.833, it = 100)"
   ]
  },
  {
   "cell_type": "markdown",
   "metadata": {},
   "source": [
    "## $Q(x_s) frfr$"
   ]
  },
  {
   "cell_type": "markdown",
   "metadata": {},
   "source": [
    "$\\tilde{a} = (1 + \\sum a_{2n}x^{2n})$, $\\tilde{b} = (1 + \\sum b_{n}x^{n})$"
   ]
  },
  {
   "cell_type": "markdown",
   "metadata": {},
   "source": [
    "$$\n",
    "T_L(x) = T_L^P(x) + \\alpha_0 \\tilde{a}\n",
    "$$\n",
    "\n",
    "$$\n",
    "T_U(x) = T_U^P(x) + \\beta_0 \\tilde{b}\n",
    "$$"
   ]
  },
  {
   "cell_type": "markdown",
   "metadata": {},
   "source": [
    "$x = x_s \\ \\ \\rightarrow T_L = T_U$, $T_{L,x} = T_{U_x}$"
   ]
  },
  {
   "cell_type": "markdown",
   "metadata": {},
   "source": [
    "$$\n",
    "T_L^P(x) + \\alpha_0 \\tilde{a} = T_U(x) = T_U^P(x) + \\alpha_0 \\tilde{b} \n",
    "$$\n",
    "\n",
    "$$\n",
    "T_{U,x}^P + \\alpha_0 \\tilde{b}_x = T_{U,x}^P + \\beta_0 \\tilde{b}_x\n",
    "$$"
   ]
  },
  {
   "cell_type": "markdown",
   "metadata": {},
   "source": [
    "$\\iff$\n",
    "\n",
    "$$\n",
    "\\begin{bmatrix} \\tilde{a} & -\\tilde{b} \\\\ \\tilde{a}_x & -\\tilde{b}_x \\end{bmatrix} \n",
    "\\begin{bmatrix} \\alpha_0  \\\\ \\beta_0 \\end{bmatrix} = \n",
    "\\begin{bmatrix} T_U - T_L  \\\\ T_{U,x} - T_{L,x} \\end{bmatrix}\n",
    "$$"
   ]
  },
  {
   "cell_type": "code",
   "execution_count": 6,
   "metadata": {},
   "outputs": [],
   "source": [
    "import numpy as np"
   ]
  },
  {
   "cell_type": "code",
   "execution_count": 20,
   "metadata": {},
   "outputs": [],
   "source": [
    "S2 = -0.477\n",
    "B = 1.45\n",
    "A = 201.4\n",
    "D = 0.3\n",
    "a_L = 0.68\n",
    "a_U = 0.38\n",
    "del_a = a_U-a_L"
   ]
  },
  {
   "cell_type": "code",
   "execution_count": 21,
   "metadata": {},
   "outputs": [],
   "source": [
    "def S(x):\n",
    "    return 1 + S2*0.5*(3*x**2-1)"
   ]
  },
  {
   "cell_type": "code",
   "execution_count": 132,
   "metadata": {},
   "outputs": [],
   "source": [
    "def del_T_p(x, B, S2, D):\n",
    "    # devided by Q\n",
    "    return del_a * (1 / B + (S2 / ( 6 * D + B)) * 0.5 * (3 * x**2 -1))\n",
    "\n",
    "def del_T_p_x(x,B,S2, D):\n",
    "    # devided by Q\n",
    "    return del_a * S2 * 3 * x / (6 * D + B)\n",
    "\n",
    "\n",
    "def Q_xs(xs_arr):\n",
    "    \n",
    "    Q_xs_arr = np.zeros(len(xs_arr))\n",
    "    T = np.zeros((len(xs_arr),len(xs_arr)))\n",
    "\n",
    "    for j in range(len(xs_arr)):\n",
    "\n",
    "        a_tild = a_tilde(xs_arr[j], B / D)\n",
    "        a_tild_x = a_tilde_x(xs_arr[j], B / D)\n",
    "        b_tild = b_tilde(xs_arr[j], B / D)\n",
    "        b_tild_x = b_tilde_x(xs_arr[j], B / D)\n",
    "\n",
    "        del_T_p_vec = np.array([del_T_p(xs_arr[j], B, S2, D), del_T_p_x(xs_arr[j], B, S2, D)])\n",
    "        A_tilde = np.array([[-a_tild, -b_tild], # hva faen\n",
    "                    [a_tild_x, -b_tild_x]])\n",
    "\n",
    "        # get alpha_0/Q and beta_0/Q\n",
    "        alpha_beta_0 = np.linalg.solve(A_tilde, del_T_p_vec)\n",
    "        Q_xs_arr[j] = (A / B) / (a_L / B + S2 * a_L * 0.5 * (3 * xs_arr[j]**2 - 1) / (B + 6 * D) + alpha_beta_0[0] * a_tild)\n",
    "\n",
    "        T[:j] = Q_xs_arr[j]*(a_L/B + (S2*a_L/(6*D+B))*0.5*(3*xs_arr**2-1) + alpha_beta_0[0]*a_tild)-A/B\n",
    "    \n",
    "    return [Q_xs_arr,T]"
   ]
  },
  {
   "cell_type": "markdown",
   "metadata": {},
   "source": [
    "inserting into (6)"
   ]
  },
  {
   "cell_type": "code",
   "execution_count": 133,
   "metadata": {},
   "outputs": [
    {
     "name": "stdout",
     "output_type": "stream",
     "text": [
      "75.85888976606836\n"
     ]
    },
    {
     "data": {
      "image/png": "[encoded data removed]",
      "text/plain": [
       "<Figure size 640x480 with 1 Axes>"
      ]
     },
     "metadata": {},
     "output_type": "display_data"
    }
   ],
   "source": [
    "import matplotlib.pyplot as plt\n",
    "xss = np.linspace(0,1,100)\n",
    "ronaldo = Q_xs(xss)[0]\n",
    "\n",
    "plt.plot(xss,1360/4*np.ones(len(xss)), ls=\"dotted\")\n",
    "plt.plot(xss, ronaldo, color = \"green\")\n",
    "\n",
    "print(np.arcsin(xss[np.argmin(np.abs(ronaldo - 1360/4))])*180/np.pi)\n"
   ]
  },
  {
   "cell_type": "code",
   "execution_count": 134,
   "metadata": {},
   "outputs": [
    {
     "data": {
      "text/plain": [
       "[<matplotlib.lines.Line2D at 0x223c0b55290>]"
      ]
     },
     "execution_count": 134,
     "metadata": {},
     "output_type": "execute_result"
    },
    {
     "data": {
      "image/png": "[encoded data removed]",
      "text/plain": [
       "<Figure size 640x480 with 1 Axes>"
      ]
     },
     "metadata": {},
     "output_type": "display_data"
    }
   ],
   "source": [
    "\n",
    "messi = Q_xs(xss)[1]\n",
    "plt.plot(xss, messi[:][93])"
   ]
  }
 ],
 "metadata": {
  "kernelspec": {
   "display_name": "Python 3",
   "language": "python",
   "name": "python3"
  },
  "language_info": {
   "codemirror_mode": {
    "name": "ipython",
    "version": 3
   },
   "file_extension": ".py",
   "mimetype": "text/x-python",
   "name": "python",
   "nbconvert_exporter": "python",
   "pygments_lexer": "ipython3",
   "version": "3.11.5"
  }
 },
 "nbformat": 4,
 "nbformat_minor": 2
}
